{
 "cells": [
  {
   "cell_type": "code",
   "execution_count": 1,
   "metadata": {},
   "outputs": [],
   "source": [
    "import os\n",
    "import fnmatch\n",
    "from textblob import TextBlob\n",
    "import pandas as pd\n",
    "from sklearn.feature_extraction.text import TfidfVectorizer\n",
    "from nltk.corpus import stopwords\n",
    "from nltk import pos_tag,pos_tag_sents\n",
    "import regex as re\n",
    "import operator\n",
    "from sklearn.svm import SVC, LinearSVC\n",
    "from sklearn.metrics import classification_report, accuracy_score, confusion_matrix\n",
    "from sklearn.model_selection import train_test_split\n",
    "from sklearn import metrics\n",
    "from sklearn import svm\n",
    "from sklearn.model_selection import GridSearchCV\n",
    "import pickle\n",
    "from nltk.corpus import stopwords\n",
    "import sys"
   ]
  },
  {
   "cell_type": "code",
   "execution_count": 2,
   "metadata": {},
   "outputs": [],
   "source": [
    "train = pd.read_csv('Amazon_reviews.csv')"
   ]
  },
  {
   "cell_type": "code",
   "execution_count": 3,
   "metadata": {},
   "outputs": [
    {
     "data": {
      "text/html": [
       "<div>\n",
       "<style scoped>\n",
       "    .dataframe tbody tr th:only-of-type {\n",
       "        vertical-align: middle;\n",
       "    }\n",
       "\n",
       "    .dataframe tbody tr th {\n",
       "        vertical-align: top;\n",
       "    }\n",
       "\n",
       "    .dataframe thead th {\n",
       "        text-align: right;\n",
       "    }\n",
       "</style>\n",
       "<table border=\"1\" class=\"dataframe\">\n",
       "  <thead>\n",
       "    <tr style=\"text-align: right;\">\n",
       "      <th></th>\n",
       "      <th>DOC_ID</th>\n",
       "      <th>LABEL</th>\n",
       "      <th>RATING</th>\n",
       "      <th>VERIFIED_PURCHASE</th>\n",
       "      <th>PRODUCT_CATEGORY</th>\n",
       "      <th>PRODUCT_ID</th>\n",
       "      <th>PRODUCT_TITLE</th>\n",
       "      <th>REVIEW_TITLE</th>\n",
       "      <th>REVIEW_TEXT</th>\n",
       "    </tr>\n",
       "  </thead>\n",
       "  <tbody>\n",
       "    <tr>\n",
       "      <th>0</th>\n",
       "      <td>1</td>\n",
       "      <td>__label1__</td>\n",
       "      <td>4</td>\n",
       "      <td>N</td>\n",
       "      <td>PC</td>\n",
       "      <td>B00008NG7N</td>\n",
       "      <td>Targus PAUK10U Ultra Mini USB Keypad, Black</td>\n",
       "      <td>useful</td>\n",
       "      <td>When least you think so, this product will sav...</td>\n",
       "    </tr>\n",
       "    <tr>\n",
       "      <th>1</th>\n",
       "      <td>2</td>\n",
       "      <td>__label1__</td>\n",
       "      <td>4</td>\n",
       "      <td>Y</td>\n",
       "      <td>Wireless</td>\n",
       "      <td>B00LH0Y3NM</td>\n",
       "      <td>Note 3 Battery : Stalion Strength Replacement ...</td>\n",
       "      <td>New era for batteries</td>\n",
       "      <td>Lithium batteries are something new introduced...</td>\n",
       "    </tr>\n",
       "    <tr>\n",
       "      <th>2</th>\n",
       "      <td>3</td>\n",
       "      <td>__label1__</td>\n",
       "      <td>3</td>\n",
       "      <td>N</td>\n",
       "      <td>Baby</td>\n",
       "      <td>B000I5UZ1Q</td>\n",
       "      <td>Fisher-Price Papasan Cradle Swing, Starlight</td>\n",
       "      <td>doesn't swing very well.</td>\n",
       "      <td>I purchased this swing for my baby. She is 6 m...</td>\n",
       "    </tr>\n",
       "    <tr>\n",
       "      <th>3</th>\n",
       "      <td>4</td>\n",
       "      <td>__label1__</td>\n",
       "      <td>4</td>\n",
       "      <td>N</td>\n",
       "      <td>Office Products</td>\n",
       "      <td>B003822IRA</td>\n",
       "      <td>Casio MS-80B Standard Function Desktop Calculator</td>\n",
       "      <td>Great computing!</td>\n",
       "      <td>I was looking for an inexpensive desk calcolat...</td>\n",
       "    </tr>\n",
       "    <tr>\n",
       "      <th>4</th>\n",
       "      <td>5</td>\n",
       "      <td>__label1__</td>\n",
       "      <td>4</td>\n",
       "      <td>N</td>\n",
       "      <td>Beauty</td>\n",
       "      <td>B00PWSAXAM</td>\n",
       "      <td>Shine Whitening - Zero Peroxide Teeth Whitenin...</td>\n",
       "      <td>Only use twice a week</td>\n",
       "      <td>I only use it twice a week and the results are...</td>\n",
       "    </tr>\n",
       "    <tr>\n",
       "      <th>...</th>\n",
       "      <td>...</td>\n",
       "      <td>...</td>\n",
       "      <td>...</td>\n",
       "      <td>...</td>\n",
       "      <td>...</td>\n",
       "      <td>...</td>\n",
       "      <td>...</td>\n",
       "      <td>...</td>\n",
       "      <td>...</td>\n",
       "    </tr>\n",
       "    <tr>\n",
       "      <th>12958</th>\n",
       "      <td>12959</td>\n",
       "      <td>__label2__</td>\n",
       "      <td>5</td>\n",
       "      <td>Y</td>\n",
       "      <td>Pet Products</td>\n",
       "      <td>B004488VQ4</td>\n",
       "      <td>Petsafe Yard &amp; Park Rechargeable Dog Training ...</td>\n",
       "      <td>It works</td>\n",
       "      <td>It has helped a great deal very humane and goo...</td>\n",
       "    </tr>\n",
       "    <tr>\n",
       "      <th>12959</th>\n",
       "      <td>12960</td>\n",
       "      <td>__label2__</td>\n",
       "      <td>4</td>\n",
       "      <td>Y</td>\n",
       "      <td>Home</td>\n",
       "      <td>B00IIQPVC0</td>\n",
       "      <td>Kurt Adler Deer Stocking Holder Decor, 8-Inch</td>\n",
       "      <td>Good not great.</td>\n",
       "      <td>Not the same craftsmanship as the Kurt Adler M...</td>\n",
       "    </tr>\n",
       "    <tr>\n",
       "      <th>12960</th>\n",
       "      <td>12961</td>\n",
       "      <td>__label2__</td>\n",
       "      <td>4</td>\n",
       "      <td>Y</td>\n",
       "      <td>Sports</td>\n",
       "      <td>B007MXI1HW</td>\n",
       "      <td>Condor Tools &amp; Knives Dynasty Dadao Sword, 21 ...</td>\n",
       "      <td>Condor a good choice</td>\n",
       "      <td>The sword is well balanced. It's made by condo...</td>\n",
       "    </tr>\n",
       "    <tr>\n",
       "      <th>12961</th>\n",
       "      <td>12962</td>\n",
       "      <td>__label2__</td>\n",
       "      <td>5</td>\n",
       "      <td>Y</td>\n",
       "      <td>Home</td>\n",
       "      <td>B00C7WLG8O</td>\n",
       "      <td>Keeble Outlets One Dozen (12) Kitchen Dish Tow...</td>\n",
       "      <td>Already ordered another set!</td>\n",
       "      <td>These are very nice for drying: glassware, fla...</td>\n",
       "    </tr>\n",
       "    <tr>\n",
       "      <th>12962</th>\n",
       "      <td>12963</td>\n",
       "      <td>__label2__</td>\n",
       "      <td>2</td>\n",
       "      <td>Y</td>\n",
       "      <td>Beauty</td>\n",
       "      <td>B0084BPHIM</td>\n",
       "      <td>2 Nail Art Tweezers Curved Straight Pointed On...</td>\n",
       "      <td>Dont waste your money</td>\n",
       "      <td>Was delivered earlier than expected. However y...</td>\n",
       "    </tr>\n",
       "  </tbody>\n",
       "</table>\n",
       "<p>12963 rows × 9 columns</p>\n",
       "</div>"
      ],
      "text/plain": [
       "       DOC_ID       LABEL  RATING VERIFIED_PURCHASE PRODUCT_CATEGORY  \\\n",
       "0           1  __label1__       4                 N               PC   \n",
       "1           2  __label1__       4                 Y         Wireless   \n",
       "2           3  __label1__       3                 N             Baby   \n",
       "3           4  __label1__       4                 N  Office Products   \n",
       "4           5  __label1__       4                 N           Beauty   \n",
       "...       ...         ...     ...               ...              ...   \n",
       "12958   12959  __label2__       5                 Y     Pet Products   \n",
       "12959   12960  __label2__       4                 Y             Home   \n",
       "12960   12961  __label2__       4                 Y           Sports   \n",
       "12961   12962  __label2__       5                 Y             Home   \n",
       "12962   12963  __label2__       2                 Y           Beauty   \n",
       "\n",
       "       PRODUCT_ID                                      PRODUCT_TITLE  \\\n",
       "0      B00008NG7N        Targus PAUK10U Ultra Mini USB Keypad, Black   \n",
       "1      B00LH0Y3NM  Note 3 Battery : Stalion Strength Replacement ...   \n",
       "2      B000I5UZ1Q       Fisher-Price Papasan Cradle Swing, Starlight   \n",
       "3      B003822IRA  Casio MS-80B Standard Function Desktop Calculator   \n",
       "4      B00PWSAXAM  Shine Whitening - Zero Peroxide Teeth Whitenin...   \n",
       "...           ...                                                ...   \n",
       "12958  B004488VQ4  Petsafe Yard & Park Rechargeable Dog Training ...   \n",
       "12959  B00IIQPVC0      Kurt Adler Deer Stocking Holder Decor, 8-Inch   \n",
       "12960  B007MXI1HW  Condor Tools & Knives Dynasty Dadao Sword, 21 ...   \n",
       "12961  B00C7WLG8O  Keeble Outlets One Dozen (12) Kitchen Dish Tow...   \n",
       "12962  B0084BPHIM  2 Nail Art Tweezers Curved Straight Pointed On...   \n",
       "\n",
       "                       REVIEW_TITLE  \\\n",
       "0                            useful   \n",
       "1             New era for batteries   \n",
       "2          doesn't swing very well.   \n",
       "3                  Great computing!   \n",
       "4             Only use twice a week   \n",
       "...                             ...   \n",
       "12958                      It works   \n",
       "12959               Good not great.   \n",
       "12960          Condor a good choice   \n",
       "12961  Already ordered another set!   \n",
       "12962         Dont waste your money   \n",
       "\n",
       "                                             REVIEW_TEXT  \n",
       "0      When least you think so, this product will sav...  \n",
       "1      Lithium batteries are something new introduced...  \n",
       "2      I purchased this swing for my baby. She is 6 m...  \n",
       "3      I was looking for an inexpensive desk calcolat...  \n",
       "4      I only use it twice a week and the results are...  \n",
       "...                                                  ...  \n",
       "12958  It has helped a great deal very humane and goo...  \n",
       "12959  Not the same craftsmanship as the Kurt Adler M...  \n",
       "12960  The sword is well balanced. It's made by condo...  \n",
       "12961  These are very nice for drying: glassware, fla...  \n",
       "12962  Was delivered earlier than expected. However y...  \n",
       "\n",
       "[12963 rows x 9 columns]"
      ]
     },
     "execution_count": 3,
     "metadata": {},
     "output_type": "execute_result"
    }
   ],
   "source": [
    "train"
   ]
  },
  {
   "cell_type": "code",
   "execution_count": 4,
   "metadata": {},
   "outputs": [
    {
     "data": {
      "text/plain": [
       "Index([], dtype='object')"
      ]
     },
     "execution_count": 4,
     "metadata": {},
     "output_type": "execute_result"
    }
   ],
   "source": [
    "train.columns[train.isnull().any()]"
   ]
  },
  {
   "cell_type": "code",
   "execution_count": 9,
   "metadata": {},
   "outputs": [
    {
     "data": {
      "text/plain": [
       "(0, 9)"
      ]
     },
     "execution_count": 9,
     "metadata": {},
     "output_type": "execute_result"
    }
   ],
   "source": [
    "train[train['REVIEW_TEXT'].isnull()].shape"
   ]
  },
  {
   "cell_type": "code",
   "execution_count": 10,
   "metadata": {},
   "outputs": [
    {
     "data": {
      "text/html": [
       "<div>\n",
       "<style scoped>\n",
       "    .dataframe tbody tr th:only-of-type {\n",
       "        vertical-align: middle;\n",
       "    }\n",
       "\n",
       "    .dataframe tbody tr th {\n",
       "        vertical-align: top;\n",
       "    }\n",
       "\n",
       "    .dataframe thead th {\n",
       "        text-align: right;\n",
       "    }\n",
       "</style>\n",
       "<table border=\"1\" class=\"dataframe\">\n",
       "  <thead>\n",
       "    <tr style=\"text-align: right;\">\n",
       "      <th></th>\n",
       "      <th>DOC_ID</th>\n",
       "      <th>LABEL</th>\n",
       "      <th>RATING</th>\n",
       "      <th>VERIFIED_PURCHASE</th>\n",
       "      <th>PRODUCT_CATEGORY</th>\n",
       "      <th>PRODUCT_ID</th>\n",
       "      <th>PRODUCT_TITLE</th>\n",
       "      <th>REVIEW_TITLE</th>\n",
       "      <th>REVIEW_TEXT</th>\n",
       "    </tr>\n",
       "  </thead>\n",
       "  <tbody>\n",
       "  </tbody>\n",
       "</table>\n",
       "</div>"
      ],
      "text/plain": [
       "Empty DataFrame\n",
       "Columns: [DOC_ID, LABEL, RATING, VERIFIED_PURCHASE, PRODUCT_CATEGORY, PRODUCT_ID, PRODUCT_TITLE, REVIEW_TITLE, REVIEW_TEXT]\n",
       "Index: []"
      ]
     },
     "execution_count": 10,
     "metadata": {},
     "output_type": "execute_result"
    }
   ],
   "source": [
    "train[train['REVIEW_TEXT'].isnull()].head()"
   ]
  },
  {
   "cell_type": "code",
   "execution_count": 11,
   "metadata": {},
   "outputs": [
    {
     "data": {
      "text/plain": [
       "DOC_ID                int64\n",
       "LABEL                object\n",
       "RATING                int64\n",
       "VERIFIED_PURCHASE    object\n",
       "PRODUCT_CATEGORY     object\n",
       "PRODUCT_ID           object\n",
       "PRODUCT_TITLE        object\n",
       "REVIEW_TITLE         object\n",
       "REVIEW_TEXT          object\n",
       "dtype: object"
      ]
     },
     "execution_count": 11,
     "metadata": {},
     "output_type": "execute_result"
    }
   ],
   "source": [
    "train.dtypes"
   ]
  },
  {
   "cell_type": "code",
   "execution_count": 12,
   "metadata": {},
   "outputs": [],
   "source": [
    "train.drop(columns=['DOC_ID','RATING','VERIFIED_PURCHASE','PRODUCT_CATEGORY','PRODUCT_ID','PRODUCT_TITLE','REVIEW_TITLE'],inplace=True)"
   ]
  },
  {
   "cell_type": "code",
   "execution_count": 13,
   "metadata": {},
   "outputs": [
    {
     "data": {
      "text/html": [
       "<div>\n",
       "<style scoped>\n",
       "    .dataframe tbody tr th:only-of-type {\n",
       "        vertical-align: middle;\n",
       "    }\n",
       "\n",
       "    .dataframe tbody tr th {\n",
       "        vertical-align: top;\n",
       "    }\n",
       "\n",
       "    .dataframe thead th {\n",
       "        text-align: right;\n",
       "    }\n",
       "</style>\n",
       "<table border=\"1\" class=\"dataframe\">\n",
       "  <thead>\n",
       "    <tr style=\"text-align: right;\">\n",
       "      <th></th>\n",
       "      <th>LABEL</th>\n",
       "      <th>REVIEW_TEXT</th>\n",
       "    </tr>\n",
       "  </thead>\n",
       "  <tbody>\n",
       "    <tr>\n",
       "      <th>0</th>\n",
       "      <td>__label1__</td>\n",
       "      <td>When least you think so, this product will sav...</td>\n",
       "    </tr>\n",
       "    <tr>\n",
       "      <th>1</th>\n",
       "      <td>__label1__</td>\n",
       "      <td>Lithium batteries are something new introduced...</td>\n",
       "    </tr>\n",
       "    <tr>\n",
       "      <th>2</th>\n",
       "      <td>__label1__</td>\n",
       "      <td>I purchased this swing for my baby. She is 6 m...</td>\n",
       "    </tr>\n",
       "    <tr>\n",
       "      <th>3</th>\n",
       "      <td>__label1__</td>\n",
       "      <td>I was looking for an inexpensive desk calcolat...</td>\n",
       "    </tr>\n",
       "    <tr>\n",
       "      <th>4</th>\n",
       "      <td>__label1__</td>\n",
       "      <td>I only use it twice a week and the results are...</td>\n",
       "    </tr>\n",
       "    <tr>\n",
       "      <th>...</th>\n",
       "      <td>...</td>\n",
       "      <td>...</td>\n",
       "    </tr>\n",
       "    <tr>\n",
       "      <th>12958</th>\n",
       "      <td>__label2__</td>\n",
       "      <td>It has helped a great deal very humane and goo...</td>\n",
       "    </tr>\n",
       "    <tr>\n",
       "      <th>12959</th>\n",
       "      <td>__label2__</td>\n",
       "      <td>Not the same craftsmanship as the Kurt Adler M...</td>\n",
       "    </tr>\n",
       "    <tr>\n",
       "      <th>12960</th>\n",
       "      <td>__label2__</td>\n",
       "      <td>The sword is well balanced. It's made by condo...</td>\n",
       "    </tr>\n",
       "    <tr>\n",
       "      <th>12961</th>\n",
       "      <td>__label2__</td>\n",
       "      <td>These are very nice for drying: glassware, fla...</td>\n",
       "    </tr>\n",
       "    <tr>\n",
       "      <th>12962</th>\n",
       "      <td>__label2__</td>\n",
       "      <td>Was delivered earlier than expected. However y...</td>\n",
       "    </tr>\n",
       "  </tbody>\n",
       "</table>\n",
       "<p>12963 rows × 2 columns</p>\n",
       "</div>"
      ],
      "text/plain": [
       "            LABEL                                        REVIEW_TEXT\n",
       "0      __label1__  When least you think so, this product will sav...\n",
       "1      __label1__  Lithium batteries are something new introduced...\n",
       "2      __label1__  I purchased this swing for my baby. She is 6 m...\n",
       "3      __label1__  I was looking for an inexpensive desk calcolat...\n",
       "4      __label1__  I only use it twice a week and the results are...\n",
       "...           ...                                                ...\n",
       "12958  __label2__  It has helped a great deal very humane and goo...\n",
       "12959  __label2__  Not the same craftsmanship as the Kurt Adler M...\n",
       "12960  __label2__  The sword is well balanced. It's made by condo...\n",
       "12961  __label2__  These are very nice for drying: glassware, fla...\n",
       "12962  __label2__  Was delivered earlier than expected. However y...\n",
       "\n",
       "[12963 rows x 2 columns]"
      ]
     },
     "execution_count": 13,
     "metadata": {},
     "output_type": "execute_result"
    }
   ],
   "source": [
    "train"
   ]
  },
  {
   "cell_type": "code",
   "execution_count": null,
   "metadata": {},
   "outputs": [],
   "source": []
  },
  {
   "cell_type": "code",
   "execution_count": 14,
   "metadata": {},
   "outputs": [
    {
     "data": {
      "text/html": [
       "<div>\n",
       "<style scoped>\n",
       "    .dataframe tbody tr th:only-of-type {\n",
       "        vertical-align: middle;\n",
       "    }\n",
       "\n",
       "    .dataframe tbody tr th {\n",
       "        vertical-align: top;\n",
       "    }\n",
       "\n",
       "    .dataframe thead th {\n",
       "        text-align: right;\n",
       "    }\n",
       "</style>\n",
       "<table border=\"1\" class=\"dataframe\">\n",
       "  <thead>\n",
       "    <tr style=\"text-align: right;\">\n",
       "      <th></th>\n",
       "      <th>LABEL</th>\n",
       "      <th>REVIEW_TEXT</th>\n",
       "    </tr>\n",
       "  </thead>\n",
       "  <tbody>\n",
       "    <tr>\n",
       "      <th>0</th>\n",
       "      <td>__label1__</td>\n",
       "      <td>When least you think so, this product will sav...</td>\n",
       "    </tr>\n",
       "    <tr>\n",
       "      <th>1</th>\n",
       "      <td>__label1__</td>\n",
       "      <td>Lithium batteries are something new introduced...</td>\n",
       "    </tr>\n",
       "    <tr>\n",
       "      <th>2</th>\n",
       "      <td>__label1__</td>\n",
       "      <td>I purchased this swing for my baby. She is 6 m...</td>\n",
       "    </tr>\n",
       "    <tr>\n",
       "      <th>3</th>\n",
       "      <td>__label1__</td>\n",
       "      <td>I was looking for an inexpensive desk calcolat...</td>\n",
       "    </tr>\n",
       "    <tr>\n",
       "      <th>4</th>\n",
       "      <td>__label1__</td>\n",
       "      <td>I only use it twice a week and the results are...</td>\n",
       "    </tr>\n",
       "    <tr>\n",
       "      <th>...</th>\n",
       "      <td>...</td>\n",
       "      <td>...</td>\n",
       "    </tr>\n",
       "    <tr>\n",
       "      <th>12958</th>\n",
       "      <td>__label2__</td>\n",
       "      <td>It has helped a great deal very humane and goo...</td>\n",
       "    </tr>\n",
       "    <tr>\n",
       "      <th>12959</th>\n",
       "      <td>__label2__</td>\n",
       "      <td>Not the same craftsmanship as the Kurt Adler M...</td>\n",
       "    </tr>\n",
       "    <tr>\n",
       "      <th>12960</th>\n",
       "      <td>__label2__</td>\n",
       "      <td>The sword is well balanced. It's made by condo...</td>\n",
       "    </tr>\n",
       "    <tr>\n",
       "      <th>12961</th>\n",
       "      <td>__label2__</td>\n",
       "      <td>These are very nice for drying: glassware, fla...</td>\n",
       "    </tr>\n",
       "    <tr>\n",
       "      <th>12962</th>\n",
       "      <td>__label2__</td>\n",
       "      <td>Was delivered earlier than expected. However y...</td>\n",
       "    </tr>\n",
       "  </tbody>\n",
       "</table>\n",
       "<p>12963 rows × 2 columns</p>\n",
       "</div>"
      ],
      "text/plain": [
       "            LABEL                                        REVIEW_TEXT\n",
       "0      __label1__  When least you think so, this product will sav...\n",
       "1      __label1__  Lithium batteries are something new introduced...\n",
       "2      __label1__  I purchased this swing for my baby. She is 6 m...\n",
       "3      __label1__  I was looking for an inexpensive desk calcolat...\n",
       "4      __label1__  I only use it twice a week and the results are...\n",
       "...           ...                                                ...\n",
       "12958  __label2__  It has helped a great deal very humane and goo...\n",
       "12959  __label2__  Not the same craftsmanship as the Kurt Adler M...\n",
       "12960  __label2__  The sword is well balanced. It's made by condo...\n",
       "12961  __label2__  These are very nice for drying: glassware, fla...\n",
       "12962  __label2__  Was delivered earlier than expected. However y...\n",
       "\n",
       "[12963 rows x 2 columns]"
      ]
     },
     "execution_count": 14,
     "metadata": {},
     "output_type": "execute_result"
    }
   ],
   "source": [
    "train"
   ]
  },
  {
   "cell_type": "code",
   "execution_count": 16,
   "metadata": {},
   "outputs": [
    {
     "data": {
      "text/plain": [
       "(0, 2)"
      ]
     },
     "execution_count": 16,
     "metadata": {},
     "output_type": "execute_result"
    }
   ],
   "source": [
    "train[train['REVIEW_TEXT'].isnull()].shape"
   ]
  },
  {
   "cell_type": "code",
   "execution_count": 17,
   "metadata": {},
   "outputs": [
    {
     "data": {
      "text/html": [
       "<div>\n",
       "<style scoped>\n",
       "    .dataframe tbody tr th:only-of-type {\n",
       "        vertical-align: middle;\n",
       "    }\n",
       "\n",
       "    .dataframe tbody tr th {\n",
       "        vertical-align: top;\n",
       "    }\n",
       "\n",
       "    .dataframe thead th {\n",
       "        text-align: right;\n",
       "    }\n",
       "</style>\n",
       "<table border=\"1\" class=\"dataframe\">\n",
       "  <thead>\n",
       "    <tr style=\"text-align: right;\">\n",
       "      <th></th>\n",
       "      <th>LABEL</th>\n",
       "      <th>REVIEW_TEXT</th>\n",
       "    </tr>\n",
       "  </thead>\n",
       "  <tbody>\n",
       "  </tbody>\n",
       "</table>\n",
       "</div>"
      ],
      "text/plain": [
       "Empty DataFrame\n",
       "Columns: [LABEL, REVIEW_TEXT]\n",
       "Index: []"
      ]
     },
     "execution_count": 17,
     "metadata": {},
     "output_type": "execute_result"
    }
   ],
   "source": [
    "train[train['REVIEW_TEXT'].isnull()].head()"
   ]
  },
  {
   "cell_type": "code",
   "execution_count": 18,
   "metadata": {},
   "outputs": [],
   "source": [
    "train=train.dropna()"
   ]
  },
  {
   "cell_type": "code",
   "execution_count": 19,
   "metadata": {},
   "outputs": [
    {
     "data": {
      "text/plain": [
       "Index([], dtype='object')"
      ]
     },
     "execution_count": 19,
     "metadata": {},
     "output_type": "execute_result"
    }
   ],
   "source": [
    "train.columns[train.isnull().any()]"
   ]
  },
  {
   "cell_type": "code",
   "execution_count": null,
   "metadata": {},
   "outputs": [],
   "source": [
    "train.loc[train['Classification']==1, 'Classification'] = 'Genuine'\n",
    "train.loc[train['Classification']==0, 'Classification'] = 'Fake'"
   ]
  },
  {
   "cell_type": "code",
   "execution_count": null,
   "metadata": {},
   "outputs": [],
   "source": [
    "train"
   ]
  },
  {
   "cell_type": "code",
   "execution_count": null,
   "metadata": {},
   "outputs": [],
   "source": [
    "df_x=train['Review']\n",
    "df_y=train['Classification']"
   ]
  },
  {
   "cell_type": "code",
   "execution_count": null,
   "metadata": {},
   "outputs": [],
   "source": [
    "x_train, x_test, y_train, y_test = train_test_split(df_x,df_y,test_size=0.3, random_state=9)\n",
    "print(x_train.shape)\n",
    "print(x_test.shape)"
   ]
  },
  {
   "cell_type": "code",
   "execution_count": null,
   "metadata": {},
   "outputs": [],
   "source": [
    "from sklearn.feature_extraction.text import TfidfVectorizer\n",
    "tfidf_vectorizer= TfidfVectorizer(min_df=1,stop_words='english')"
   ]
  },
  {
   "cell_type": "code",
   "execution_count": null,
   "metadata": {},
   "outputs": [],
   "source": [
    "tfidf_train = tfidf_vectorizer.fit_transform(x_train) \n",
    "tfidf_test  = tfidf_vectorizer.transform(x_test)\n"
   ]
  },
  {
   "cell_type": "code",
   "execution_count": null,
   "metadata": {},
   "outputs": [],
   "source": [
    "from sklearn.naive_bayes import MultinomialNB\n",
    "model=MultinomialNB()\n",
    "model.fit(tfidf_train,y_train)"
   ]
  },
  {
   "cell_type": "code",
   "execution_count": null,
   "metadata": {},
   "outputs": [],
   "source": [
    "with open('tfid.pickle','wb') as f:\n",
    "    pickle.dump(tfidf_vectorizer,f)"
   ]
  },
  {
   "cell_type": "code",
   "execution_count": null,
   "metadata": {},
   "outputs": [],
   "source": [
    "with open('model_fakenews.pickle','wb') as f:\n",
    "    pickle.dump(model,f)"
   ]
  },
  {
   "cell_type": "code",
   "execution_count": null,
   "metadata": {},
   "outputs": [],
   "source": [
    "#model.score(X_train_counts,y_train)"
   ]
  },
  {
   "cell_type": "code",
   "execution_count": null,
   "metadata": {},
   "outputs": [],
   "source": [
    "#from sklearn.metrics import accuracy_score\n",
    "#y_pred = model.predict(X_test_counts)\n",
    "#accuracy_score(y_pred,y_test)"
   ]
  },
  {
   "cell_type": "code",
   "execution_count": null,
   "metadata": {},
   "outputs": [],
   "source": []
  },
  {
   "cell_type": "code",
   "execution_count": null,
   "metadata": {},
   "outputs": [],
   "source": []
  }
 ],
 "metadata": {
  "kernelspec": {
   "display_name": "Python 3",
   "language": "python",
   "name": "python3"
  },
  "language_info": {
   "codemirror_mode": {
    "name": "ipython",
    "version": 3
   },
   "file_extension": ".py",
   "mimetype": "text/x-python",
   "name": "python",
   "nbconvert_exporter": "python",
   "pygments_lexer": "ipython3",
   "version": "3.8.5"
  }
 },
 "nbformat": 4,
 "nbformat_minor": 4
}
